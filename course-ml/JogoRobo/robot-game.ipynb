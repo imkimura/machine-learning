{
 "cells": [
  {
   "cell_type": "code",
   "execution_count": 8,
   "metadata": {},
   "outputs": [],
   "source": [
    "#Robot top"
   ]
  },
  {
   "cell_type": "code",
   "execution_count": 9,
   "metadata": {},
   "outputs": [],
   "source": [
    "class Point(object):\n",
    "    def __init__(self, x, y):\n",
    "        self.x = x\n",
    "        self.y = y\n",
    "    \n",
    "    def __str__(self):\n",
    "        return '<%s, %s>' % (self.x, self.y)\n",
    "    \n",
    "class Reward(Point):\n",
    "    \n",
    "    def __init__(self, x, y, name):\n",
    "        super(Reward, self).__init__(x, y)\n",
    "        self.name = name\n",
    "    \n",
    "    def __str__(self):\n",
    "        return '<%s, %s> : %s' % (self.x, self.y, self.name)\n",
    "    \n",
    "    def __repr__(self):\n",
    "        return '<Reward> %s' % str(self)\n",
    "\n",
    "class Robot(Point):        \n",
    "    \n",
    "    def walk_up(self):\n",
    "        if self.y < 10:\n",
    "            self.y += 1\n",
    "        else:\n",
    "            print('Movimento não permitido')\n",
    "    \n",
    "    def walk_down(self):\n",
    "        if self.y > 0:\n",
    "            self.y -= 1\n",
    "        else:\n",
    "            print('Movimento não permitido')\n",
    "    \n",
    "    def walk_right(self):\n",
    "        if self.x < 10:\n",
    "            self.x += 1\n",
    "        else:\n",
    "            print('Movimento não permitido')\n",
    "    \n",
    "    def walk_left(self):\n",
    "        if self.x > 0:\n",
    "            self.x -= 1\n",
    "        else:\n",
    "            print('Movimento não permitido')"
   ]
  },
  {
   "cell_type": "code",
   "execution_count": 10,
   "metadata": {},
   "outputs": [],
   "source": [
    "def check_reward(robot, rewards):\n",
    "    ok = False\n",
    "    for r in rewards:\n",
    "        if (robot.x == r.x) and (robot.y == r.y):\n",
    "            print(\"Recomenpensa encontrada, você ganhou: \"+ r.name)\n",
    "            ok = True\n",
    "    \n",
    "    return ok"
   ]
  },
  {
   "cell_type": "code",
   "execution_count": 11,
   "metadata": {},
   "outputs": [],
   "source": [
    "import random\n",
    "r1 = Reward(random.randint(0, 10), random.randint(0, 10), 'Ouro')\n",
    "r2 = Reward(random.randint(0, 10), random.randint(0, 10), 'Poção de Mana')\n",
    "r3 = Reward(random.randint(0, 10), random.randint(0, 10), 'Poção de Vida')\n",
    "r4 = Reward(random.randint(0, 10), random.randint(0, 10), 'Armadura Celestial')\n",
    "r5 = Reward(random.randint(0, 10), random.randint(0, 10), 'Couraça de Espinhos')\n",
    "r6 = Reward(random.randint(0, 10), random.randint(0, 10), 'Gume do Infinito')\n",
    "r7 = Reward(random.randint(0, 10), random.randint(0, 10), 'Arco dos Anjos')\n",
    "rewards = [r1, r2, r3, r4, r5, r6, r7]"
   ]
  },
  {
   "cell_type": "code",
   "execution_count": 12,
   "metadata": {},
   "outputs": [
    {
     "data": {
      "text/plain": [
       "'\\nprint(r1)\\nstr(r1)\\nrewards\\nr1.__repr__()\\n'"
      ]
     },
     "execution_count": 12,
     "metadata": {},
     "output_type": "execute_result"
    }
   ],
   "source": [
    "'''\n",
    "print(r1)\n",
    "str(r1)\n",
    "rewards\n",
    "r1.__repr__()\n",
    "'''"
   ]
  },
  {
   "cell_type": "code",
   "execution_count": 13,
   "metadata": {},
   "outputs": [],
   "source": [
    "robot = Robot(random.randint(0, 10), random.randint(0, 10))"
   ]
  },
  {
   "cell_type": "code",
   "execution_count": 14,
   "metadata": {},
   "outputs": [
    {
     "name": "stdout",
     "output_type": "stream",
     "text": [
      "Digite o movimento que deseja fazer \n",
      "\n",
      "up - Mover para frente\n",
      "down- Mover para baixo\n",
      "left - Mover para a esquerda\n",
      "right - Mover para a direita\n",
      "\n",
      "Digite aqui::up\n",
      "<10, 4>\n",
      "Digite o movimento que deseja fazer \n",
      "\n",
      "up - Mover para frente\n",
      "down- Mover para baixo\n",
      "left - Mover para a esquerda\n",
      "right - Mover para a direita\n",
      "\n",
      "Digite aqui::left\n",
      "<9, 4>\n",
      "Digite o movimento que deseja fazer \n",
      "\n",
      "up - Mover para frente\n",
      "down- Mover para baixo\n",
      "left - Mover para a esquerda\n",
      "right - Mover para a direita\n",
      "\n",
      "Digite aqui::left\n",
      "<8, 4>\n",
      "Digite o movimento que deseja fazer \n",
      "\n",
      "up - Mover para frente\n",
      "down- Mover para baixo\n",
      "left - Mover para a esquerda\n",
      "right - Mover para a direita\n",
      "\n",
      "Digite aqui::down\n",
      "<8, 3>\n",
      "Digite o movimento que deseja fazer \n",
      "\n",
      "up - Mover para frente\n",
      "down- Mover para baixo\n",
      "left - Mover para a esquerda\n",
      "right - Mover para a direita\n",
      "\n",
      "Digite aqui::down\n",
      "<8, 2>\n",
      "Digite o movimento que deseja fazer \n",
      "\n",
      "up - Mover para frente\n",
      "down- Mover para baixo\n",
      "left - Mover para a esquerda\n",
      "right - Mover para a direita\n",
      "\n",
      "Digite aqui::left\n",
      "<7, 2>\n",
      "Digite o movimento que deseja fazer \n",
      "\n",
      "up - Mover para frente\n",
      "down- Mover para baixo\n",
      "left - Mover para a esquerda\n",
      "right - Mover para a direita\n",
      "\n",
      "Digite aqui::left\n",
      "<6, 2>\n",
      "Digite o movimento que deseja fazer \n",
      "\n",
      "up - Mover para frente\n",
      "down- Mover para baixo\n",
      "left - Mover para a esquerda\n",
      "right - Mover para a direita\n",
      "\n",
      "Digite aqui::left\n",
      "<5, 2>\n",
      "Digite o movimento que deseja fazer \n",
      "\n",
      "up - Mover para frente\n",
      "down- Mover para baixo\n",
      "left - Mover para a esquerda\n",
      "right - Mover para a direita\n",
      "\n",
      "Digite aqui::left\n",
      "<4, 2>\n",
      "Digite o movimento que deseja fazer \n",
      "\n",
      "up - Mover para frente\n",
      "down- Mover para baixo\n",
      "left - Mover para a esquerda\n",
      "right - Mover para a direita\n",
      "\n",
      "Digite aqui::down\n",
      "<4, 1>\n"
     ]
    }
   ],
   "source": [
    "for i in range(0, 10):\n",
    "    \n",
    "    moviment = input(\"Digite o movimento que deseja fazer \\n\\nup - Mover para frente\\ndown- Mover para baixo\\nleft - Mover para a esquerda\\nright - Mover para a direita\\n\\nDigite aqui::\")\n",
    "    if moviment.lower() == 'up':\n",
    "        robot.walk_up()\n",
    "    elif moviment.lower() == 'down':\n",
    "        robot.walk_down()\n",
    "    elif moviment.lower() == 'left':\n",
    "        robot.walk_left()\n",
    "    elif moviment.lower() == 'right':\n",
    "        robot.walk_right()\n",
    "    else:\n",
    "        print('Movimento Inválido')\n",
    "        continue\n",
    "    print(robot)\n",
    "    check_reward(robot, rewards)    "
   ]
  },
  {
   "cell_type": "code",
   "execution_count": 15,
   "metadata": {},
   "outputs": [
    {
     "data": {
      "text/plain": [
       "[<Reward> <5, 6> : Ouro,\n",
       " <Reward> <6, 4> : Poção de Mana,\n",
       " <Reward> <5, 6> : Poção de Vida,\n",
       " <Reward> <6, 5> : Armadura Celestial,\n",
       " <Reward> <10, 7> : Couraça de Espinhos,\n",
       " <Reward> <8, 0> : Gume do Infinito,\n",
       " <Reward> <9, 9> : Arco dos Anjos]"
      ]
     },
     "execution_count": 15,
     "metadata": {},
     "output_type": "execute_result"
    }
   ],
   "source": [
    "rewards"
   ]
  },
  {
   "cell_type": "code",
   "execution_count": null,
   "metadata": {},
   "outputs": [],
   "source": []
  }
 ],
 "metadata": {
  "kernelspec": {
   "display_name": "Python 3",
   "language": "python",
   "name": "python3"
  },
  "language_info": {
   "codemirror_mode": {
    "name": "ipython",
    "version": 3
   },
   "file_extension": ".py",
   "mimetype": "text/x-python",
   "name": "python",
   "nbconvert_exporter": "python",
   "pygments_lexer": "ipython3",
   "version": "3.7.4"
  }
 },
 "nbformat": 4,
 "nbformat_minor": 2
}
